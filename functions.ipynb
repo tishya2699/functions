{
  "nbformat": 4,
  "nbformat_minor": 0,
  "metadata": {
    "colab": {
      "provenance": []
    },
    "kernelspec": {
      "name": "python3",
      "display_name": "Python 3"
    },
    "language_info": {
      "name": "python"
    }
  },
  "cells": [
    {
      "cell_type": "markdown",
      "source": [
        "#FUNCTIONS\n",
        "   **THEORY QUESTIONS**\n",
        "\n",
        "1. What is the difference between a function and a method in Python?\n",
        " -  a method is essentially a function that is tied to an object and typically operates on that object, while a function can exist independently and is not tied to any object.\n",
        "2. 2. Explain the concept of function arguments and parameters in Python.\n",
        " - FUNCTION PARAMETERS-\n",
        "     - Parameters are the variables defined in the function definition. They act as placeholders for the values that will be passed into the function when it is called.\n",
        "     - Parameters are listed in the function's definition, inside the parentheses.   \n",
        " - FUNCTION ARGUMENTS-\n",
        "     - Arguments are the actual values or data passed to the function when it is called. These values are assigned to the function's parameters.\n",
        "     - The arguments are the real values you provide when you call a function, matching the parameters defined in the function.\n",
        "3.  What are the different ways to define and call a function in Python?\n",
        " - Basic Function: Defined using def and called with or without arguments.\n",
        " - Function with Default Arguments: Parameters have default values that are used if no argument is provided.\n",
        " - Keyword Arguments: Arguments passed using the parameter names, allowing flexibility in their order.\n",
        " - Variable-Length Arguments: Use *args for a variable number of positional arguments and **kwargs for keyword arguments.\n",
        " - Lambda Functions: Anonymous functions defined using lambda for short, one-liner functions.\n",
        " - Higher-Order Functions: Functions that accept other functions as arguments.\n",
        " - Recursive Functions: Functions that call themselves to solve problems.\n",
        "\n",
        " These various methods provide flexibility in defining and using functions in Python, depending on the needs of your program.\n",
        "4. What is the purpose of the `return` statement in a Python function?\n",
        " - The return statement in a Python function serves the primary purpose of exiting the function and sending back a value to the caller. When a function is called, the return statement allows it to send a result (or no result) back to the code that called it, thus enabling the function to output a value.\n",
        "5.  What are iterators in Python and how do they differ from iterables?\n",
        " - iterators and iterables are closely related concepts that are used for looping over sequences of data.\n",
        " - The distinction between the two is that iterables allow you to define a collection of items, while iterators enable you to step through the collection.\n",
        "6. Explain the concept of generators in Python and how they are defined.\n",
        " - In Python, a generator is a special type of iterable that allows you to iterate over a sequence of values lazily (i.e., one at a time, on demand). Unlike a list, which stores all of its values in memory, a generator computes its values as they are requested, which makes it more memory efficient for working with large datasets.\n",
        "7. What are the advantages of using generators over regular functions?\n",
        " - Generators are powerful tools in Python, offering memory efficiency, lazy evaluation, and the ability to handle infinite sequences effectively. They make your code more concise, maintainable, and efficient, especially when working with large datasets or streaming data. Regular functions are better suited for simpler tasks where memory usage and performance aren't critical, but for larger, more complex operations, generators are often the preferred choice.\n",
        "8.  What is a lambda function in Python and when is it typically used?\n",
        " - A lambda function is a compact, anonymous function used primarily for small, one-time operations where defining a full function with def would be unnecessary. It is typically used for functional programming tasks like mapping, filtering, or sorting. While lambda functions are very useful for concise operations, they are best suited for simple tasks, and more complex logic is usually better written in a regular function.\n",
        "9.  Explain the purpose and usage of the `map()` function in Python?\n",
        " - The map() function in Python is a built-in function that allows you to apply a specified function to every item in an iterable (such as a list, tuple, or string) and return a map object (which is an iterator). The purpose of map() is to make it easier to apply a function to each item in an iterable in a concise, functional programming style, rather than using a loop.\n",
        "10. What is the difference between `map()`, `reduce()`, and `filter()` functions in Python?\n",
        " - map(): Applies a function to each element of an iterable and returns an iterable with the transformed elements.\n",
        " - reduce(): Reduces an iterable to a single value by applying a function cumulatively to its items.\n",
        " - filter(): Filters an iterable by applying a function that returns True or False, keeping only those elements that satisfy the condition.  \n",
        "11. Using pen & Paper write the internal mechanism for sum operation using  reduce function on this given list :[47,11,42,13]\n",
        " [image](\"https://drive.google.com/file/d/1e4m67exCqrc22jaER8U6nAQcihQc89Jj/view?usp=sharing\")\n",
        " result = reduce(lambda x,y:x+y,[47,11,42,13])\n",
        " print(result) #output:113\n",
        "\n",
        "\n",
        "\n",
        "**PRACTICAL QUESTIONS**\n",
        "1.  Write a Python function that takes a list of numbers as input and returns the sum of all even numbers in the list.\n",
        "\n",
        "\n",
        "\n",
        "\n"
      ],
      "metadata": {
        "id": "K4xRsGIjOu8T"
      }
    },
    {
      "cell_type": "code",
      "source": [
        "def sum_of_even_numbers(numbers):\n",
        "    \"\"\"\n",
        "    Returns the sum of all even numbers in the given list.\n",
        "\n",
        "    Parameters:\n",
        "        numbers (list): A list of integers.\n",
        "\n",
        "    Returns:\n",
        "        int: The sum of all even numbers in the list.\n",
        "    \"\"\"\n",
        "    return sum(num for num in numbers if num % 2 == 0)\n",
        "\n",
        "# Example usage\n",
        "numbers = [1, 2, 3, 4, 5, 6]\n",
        "result = sum_of_even_numbers(numbers)\n",
        "print(f\"The sum of even numbers is: {result}\")\n"
      ],
      "metadata": {
        "colab": {
          "base_uri": "https://localhost:8080/"
        },
        "id": "od81napnI9cz",
        "outputId": "5b4dd5c1-d2cc-4d94-8cf8-f6ad6286ca0e"
      },
      "execution_count": null,
      "outputs": [
        {
          "output_type": "stream",
          "name": "stdout",
          "text": [
            "The sum of even numbers is: 12\n"
          ]
        }
      ]
    },
    {
      "cell_type": "markdown",
      "source": [
        "2. Create a Python function that accepts a string and returns the reverse of that string."
      ],
      "metadata": {
        "id": "4qYA7LotJLPo"
      }
    },
    {
      "cell_type": "code",
      "source": [
        "def reverse_string(s):\n",
        "    \"\"\"\n",
        "    Returns the reverse of the given string.\n",
        "\n",
        "    Parameters:\n",
        "        s (str): The input string.\n",
        "\n",
        "    Returns:\n",
        "        str: The reversed string.\n",
        "    \"\"\"\n",
        "    return s[::-1]\n",
        "\n",
        "# Example usage\n",
        "input_string = \"hello\"\n",
        "reversed_string = reverse_string(input_string)\n",
        "print(f\"The reverse of '{input_string}' is '{reversed_string}'.\")\n"
      ],
      "metadata": {
        "colab": {
          "base_uri": "https://localhost:8080/"
        },
        "id": "4c8CoRoMJdJZ",
        "outputId": "cd9bd589-50b2-416f-bb61-a0025c7b246a"
      },
      "execution_count": null,
      "outputs": [
        {
          "output_type": "stream",
          "name": "stdout",
          "text": [
            "The reverse of 'hello' is 'olleh'.\n"
          ]
        }
      ]
    },
    {
      "cell_type": "code",
      "source": [],
      "metadata": {
        "id": "6ROB-NboJeM1"
      },
      "execution_count": null,
      "outputs": []
    },
    {
      "cell_type": "markdown",
      "source": [
        "3.  Implement a Python function that takes a list of integers and returns a new list containing the squares of each number."
      ],
      "metadata": {
        "id": "nPpX1V6lJfjl"
      }
    },
    {
      "cell_type": "code",
      "source": [
        "def square_numbers(numbers):\n",
        "    \"\"\"\n",
        "    Returns a list of squares of the given integers.\n",
        "\n",
        "    Parameters:\n",
        "        numbers (list): A list of integers.\n",
        "\n",
        "    Returns:\n",
        "        list: A new list containing the squares of each integer.\n",
        "    \"\"\"\n",
        "    return [num ** 2 for num in numbers]\n",
        "\n",
        "# Example usage\n",
        "def square_numbers(numbers):\n",
        "    \"\"\"\n",
        "    Returns a list of squares of the given integers.\n",
        "\n",
        "    Parameters:\n",
        "        numbers (list): A list of integers.\n",
        "\n",
        "    Returns:\n",
        "        list: A new list containing the squares of each integer.\n",
        "    \"\"\"\n",
        "    return [num ** 2 for num in numbers]\n",
        "\n",
        "# Example usage\n",
        "numbers = [1, 2, 3, 4, 5]\n",
        "squared_numbers = square_numbers(numbers)\n",
        "print(f\"The squares of {numbers} are {squared_numbers}\")"
      ],
      "metadata": {
        "colab": {
          "base_uri": "https://localhost:8080/"
        },
        "id": "Q44AZNgFJnRn",
        "outputId": "31c35303-fc65-45e4-b00a-d128e92c5347"
      },
      "execution_count": null,
      "outputs": [
        {
          "output_type": "stream",
          "name": "stdout",
          "text": [
            "The squares of [1, 2, 3, 4, 5] are [1, 4, 9, 16, 25]\n"
          ]
        }
      ]
    },
    {
      "cell_type": "code",
      "source": [],
      "metadata": {
        "id": "VAnigIJCJoYp"
      },
      "execution_count": null,
      "outputs": []
    },
    {
      "cell_type": "markdown",
      "source": [
        "4.  Write a Python function that checks if a given number is prime or not from 1 to 200."
      ],
      "metadata": {
        "id": "s__Zsb5LJ7kz"
      }
    },
    {
      "cell_type": "code",
      "source": [
        "def is_prime(num):\n",
        "    \"\"\"\n",
        "    Checks if a given number is prime.\n",
        "\n",
        "    Parameters:\n",
        "        num (int): The number to check.\n",
        "\n",
        "    Returns:\n",
        "        bool: True if the number is prime, False otherwise.\n",
        "    \"\"\"\n",
        "    if num < 2:\n",
        "        return False\n",
        "    for i in range(2, int(num ** 0.5) + 1):\n",
        "        if num % i == 0:\n",
        "            return False\n",
        "    return True\n",
        "\n",
        "# Example usage\n",
        "for number in range(1, 201):\n",
        "    if is_prime(number):\n",
        "        print(f\"{number} is a prime number.\")\n"
      ],
      "metadata": {
        "colab": {
          "base_uri": "https://localhost:8080/"
        },
        "id": "EsendbzeKGMQ",
        "outputId": "0bdc1b1b-cd69-4811-ccb5-4e4857b6da22"
      },
      "execution_count": null,
      "outputs": [
        {
          "output_type": "stream",
          "name": "stdout",
          "text": [
            "2 is a prime number.\n",
            "3 is a prime number.\n",
            "5 is a prime number.\n",
            "7 is a prime number.\n",
            "11 is a prime number.\n",
            "13 is a prime number.\n",
            "17 is a prime number.\n",
            "19 is a prime number.\n",
            "23 is a prime number.\n",
            "29 is a prime number.\n",
            "31 is a prime number.\n",
            "37 is a prime number.\n",
            "41 is a prime number.\n",
            "43 is a prime number.\n",
            "47 is a prime number.\n",
            "53 is a prime number.\n",
            "59 is a prime number.\n",
            "61 is a prime number.\n",
            "67 is a prime number.\n",
            "71 is a prime number.\n",
            "73 is a prime number.\n",
            "79 is a prime number.\n",
            "83 is a prime number.\n",
            "89 is a prime number.\n",
            "97 is a prime number.\n",
            "101 is a prime number.\n",
            "103 is a prime number.\n",
            "107 is a prime number.\n",
            "109 is a prime number.\n",
            "113 is a prime number.\n",
            "127 is a prime number.\n",
            "131 is a prime number.\n",
            "137 is a prime number.\n",
            "139 is a prime number.\n",
            "149 is a prime number.\n",
            "151 is a prime number.\n",
            "157 is a prime number.\n",
            "163 is a prime number.\n",
            "167 is a prime number.\n",
            "173 is a prime number.\n",
            "179 is a prime number.\n",
            "181 is a prime number.\n",
            "191 is a prime number.\n",
            "193 is a prime number.\n",
            "197 is a prime number.\n",
            "199 is a prime number.\n"
          ]
        }
      ]
    },
    {
      "cell_type": "markdown",
      "source": [
        "5.  Create an iterator class in Python that generates the Fibonacci sequence up to a specified number of terms."
      ],
      "metadata": {
        "id": "8FiWK1fFKaQk"
      }
    },
    {
      "cell_type": "code",
      "source": [
        "class FibonacciIterator:\n",
        "    \"\"\"\n",
        "    An iterator class to generate Fibonacci sequence up to a specified number of terms.\n",
        "    \"\"\"\n",
        "    def __init__(self, n_terms):\n",
        "        \"\"\"\n",
        "        Initializes the iterator with the number of terms to generate.\n",
        "\n",
        "        Parameters:\n",
        "            n_terms (int): The number of terms in the Fibonacci sequence to generate.\n",
        "        \"\"\"\n",
        "        self.n_terms = n_terms\n",
        "        self.current = 0\n",
        "        self.next = 1\n",
        "        self.index = 0\n",
        "\n",
        "    def __iter__(self):\n",
        "        return self\n",
        "\n",
        "    def __next__(self):\n",
        "        if self.index >= self.n_terms:\n",
        "            raise StopIteration\n",
        "        if self.index == 0:\n",
        "            self.index += 1\n",
        "            return 0\n",
        "        if self.index == 1:\n",
        "            self.index += 1\n",
        "            return 1\n",
        "\n",
        "        # Generate the next Fibonacci number\n",
        "        fib = self.current + self.next\n",
        "        self.current = self.next\n",
        "        self.next = fib\n",
        "        self.index += 1\n",
        "        return fib\n",
        "\n",
        "\n"
      ],
      "metadata": {
        "id": "HEKuwdEUKpGn"
      },
      "execution_count": null,
      "outputs": []
    },
    {
      "cell_type": "markdown",
      "source": [
        "6.  Write a generator function in Python that yields the powers of 2 up to a given exponent."
      ],
      "metadata": {
        "id": "LDlJF-r8KvfJ"
      }
    },
    {
      "cell_type": "code",
      "source": [
        "def powers_of_two(max_exponent):\n",
        "    \"\"\"\n",
        "    A generator function that yields powers of 2 up to 2^max_exponent.\n",
        "\n",
        "    Parameters:\n",
        "        max_exponent (int): The maximum exponent.\n",
        "\n",
        "    Yields:\n",
        "        int: The powers of 2 from 2^0 to 2^max_exponent.\n",
        "    \"\"\"\n",
        "    for exponent in range(max_exponent + 1):\n",
        "        yield 2 ** exponent\n",
        "\n",
        "# Example usage\n",
        "max_exponent = 5\n",
        "print(f\"Powers of 2 up to 2^{max_exponent}:\")\n",
        "for power in powers_of_two(max_exponent):\n",
        "    print(power, end=\" \")\n"
      ],
      "metadata": {
        "colab": {
          "base_uri": "https://localhost:8080/"
        },
        "id": "Pvdv4E6uK5Lw",
        "outputId": "98dbcbf5-412f-417c-ddeb-86c2170cf716"
      },
      "execution_count": null,
      "outputs": [
        {
          "output_type": "stream",
          "name": "stdout",
          "text": [
            "Powers of 2 up to 2^5:\n",
            "1 2 4 8 16 32 "
          ]
        }
      ]
    },
    {
      "cell_type": "code",
      "source": [],
      "metadata": {
        "id": "L5bfAyIiKrx9"
      },
      "execution_count": null,
      "outputs": []
    },
    {
      "cell_type": "markdown",
      "source": [
        "7. . Implement a generator function that reads a file line by line and yields each line as a string."
      ],
      "metadata": {
        "id": "T7WTtRhpK8Uv"
      }
    },
    {
      "cell_type": "code",
      "source": [
        "def read_file_line_by_line(file_path):\n",
        "    \"\"\"\n",
        "    A generator function that reads a file line by line and yields each line.\n",
        "\n",
        "    Parameters:\n",
        "        file_path (str): The path to the file to be read.\n",
        "\n",
        "    Yields:\n",
        "        str: Each line from the file as a string.\n",
        "    \"\"\"\n",
        "    with open(file_path, 'r') as file:\n",
        "        for line in file:\n",
        "            yield line.strip()\n",
        "\n",
        "# Example usage\n",
        "file_path = \"example.txt\"  # Replace with the path to your file\n",
        "print(\"Reading file line by line:\")\n",
        "for line in read_file_line_by_line(file_path):\n",
        "    print(line)\n"
      ],
      "metadata": {
        "id": "LSfld2zWLGb5"
      },
      "execution_count": null,
      "outputs": []
    },
    {
      "cell_type": "markdown",
      "source": [
        "8. . Use a lambda function in Python to sort a list of tuples based on the second element of each tuple."
      ],
      "metadata": {
        "id": "HNGHwVkOLVKH"
      }
    },
    {
      "cell_type": "code",
      "source": [
        "# List of tuples\n",
        "tuples_list = [(1, 3), (4, 1), (2, 5), (3, 2)]\n",
        "\n",
        "# Sorting using a lambda function\n",
        "sorted_list = sorted(tuples_list, key=lambda x: x[1])\n",
        "\n",
        "print(\"Original list:\", tuples_list)\n",
        "print(\"Sorted list (by second element):\", sorted_list)\n"
      ],
      "metadata": {
        "colab": {
          "base_uri": "https://localhost:8080/"
        },
        "id": "djw2gEkYLHWW",
        "outputId": "dc6bae66-9f47-445b-ae8c-d4160bf3a01a"
      },
      "execution_count": null,
      "outputs": [
        {
          "output_type": "stream",
          "name": "stdout",
          "text": [
            "Original list: [(1, 3), (4, 1), (2, 5), (3, 2)]\n",
            "Sorted list (by second element): [(4, 1), (3, 2), (1, 3), (2, 5)]\n"
          ]
        }
      ]
    },
    {
      "cell_type": "code",
      "source": [],
      "metadata": {
        "id": "UZoqOol4Lmmq"
      },
      "execution_count": null,
      "outputs": []
    },
    {
      "cell_type": "markdown",
      "source": [
        "9. Write a Python program that uses `map()` to convert a list of temperatures from Celsius to Fahrenheit."
      ],
      "metadata": {
        "id": "zTd_BSfaLoBY"
      }
    },
    {
      "cell_type": "code",
      "source": [
        "def celsius_to_fahrenheit(celsius):\n",
        "    \"\"\"\n",
        "    Converts a temperature from Celsius to Fahrenheit.\n",
        "\n",
        "    Parameters:\n",
        "        celsius (float): Temperature in Celsius.\n",
        "\n",
        "    Returns:\n",
        "        float: Temperature in Fahrenheit.\n",
        "    \"\"\"\n",
        "    return (celsius * 9/5) + 32\n",
        "\n",
        "# List of temperatures in Celsius\n",
        "celsius_temperatures = [0, 20, 37, 100]\n",
        "\n",
        "# Using map to convert Celsius to Fahrenheit\n",
        "fahrenheit_temperatures = list(map(celsius_to_fahrenheit, celsius_temperatures))\n",
        "\n",
        "# Display the results\n",
        "print(\"Celsius temperatures:\", celsius_temperatures)\n",
        "print(\"Fahrenheit temperatures:\", fahrenheit_temperatures)\n"
      ],
      "metadata": {
        "colab": {
          "base_uri": "https://localhost:8080/"
        },
        "id": "rqfAJSTNLyh9",
        "outputId": "9ee53eee-b31c-4ae4-95e9-5ae32d4a22dd"
      },
      "execution_count": null,
      "outputs": [
        {
          "output_type": "stream",
          "name": "stdout",
          "text": [
            "Celsius temperatures: [0, 20, 37, 100]\n",
            "Fahrenheit temperatures: [32.0, 68.0, 98.6, 212.0]\n"
          ]
        }
      ]
    },
    {
      "cell_type": "code",
      "source": [],
      "metadata": {
        "id": "xqlVKm1MLzvL"
      },
      "execution_count": null,
      "outputs": []
    },
    {
      "cell_type": "markdown",
      "source": [
        "10.  Create a Python program that uses `filter()` to remove all the vowels from a given string."
      ],
      "metadata": {
        "id": "NIM2G4-_L1N_"
      }
    },
    {
      "cell_type": "code",
      "source": [
        "def is_not_vowel(char):\n",
        "    \"\"\"\n",
        "    Checks if a character is not a vowel.\n",
        "\n",
        "    Parameters:\n",
        "        char (str): A single character.\n",
        "\n",
        "    Returns:\n",
        "        bool: True if the character is not a vowel, False otherwise.\n",
        "    \"\"\"\n",
        "    vowels = 'aeiouAEIOU'\n",
        "    return char not in vowels\n",
        "\n",
        "# Input string\n",
        "input_string = \"This is a sample string with vowels.\"\n",
        "\n",
        "# Using filter to remove vowels\n",
        "result = ''.join(filter(is_not_vowel, input_string))\n",
        "\n",
        "# Display the result\n",
        "print(\"Original string:\", input_string)\n",
        "print(\"String without vowels:\", result)\n"
      ],
      "metadata": {
        "colab": {
          "base_uri": "https://localhost:8080/"
        },
        "id": "zI3q5FCeL-hO",
        "outputId": "153870cc-0b93-4f3c-aa1d-bbae11aa187b"
      },
      "execution_count": null,
      "outputs": [
        {
          "output_type": "stream",
          "name": "stdout",
          "text": [
            "Original string: This is a sample string with vowels.\n",
            "String without vowels: Ths s  smpl strng wth vwls.\n"
          ]
        }
      ]
    },
    {
      "cell_type": "code",
      "source": [],
      "metadata": {
        "id": "AxXb8CkYL_jo"
      },
      "execution_count": null,
      "outputs": []
    },
    {
      "cell_type": "markdown",
      "source": [
        "11. ) Imagine an accounting routine used in a book shop. It works on a list with sublists, which look like this: Write a Python program, which returns a list with 2-tuples. Each tuple consists of the order number and the product of the price per item and the quantity. The product should be increased by 10,- € if the value of the order is smaller than 100,00 €. Write a Python program using lambda and map."
      ],
      "metadata": {
        "id": "rU1Hcj1YMA29"
      }
    },
    {
      "cell_type": "code",
      "source": [
        "# Data: List of orders\n",
        "orders = [\n",
        "    [34587, \"Learning Python, Mark Lutz\", 4, 40.95],\n",
        "    [98762, \"Programming Python, Mark Lutz\", 5, 56.80],\n",
        "    [77226, \"Head First Python, Paul Barry\", 3, 32.95],\n",
        "    [88112, \"Einführung in Python3, Bernd Klein\", 3, 24.99],\n",
        "]\n",
        "\n",
        "# Lambda function and map to calculate the required result\n",
        "final_order_values = list(\n",
        "    map(\n",
        "        lambda order: (\n",
        "            order[0],  # Order number\n",
        "            (order[2] * order[3]) + 10 if (order[2] * order[3]) < 100 else (order[2] * order[3])  # Product value\n",
        "        ),\n",
        "        orders\n",
        "    )\n",
        ")\n",
        "\n",
        "# Output the result\n",
        "print(\"Final Order Values:\")\n",
        "for order in final_order_values:\n",
        "    print(order)\n"
      ],
      "metadata": {
        "colab": {
          "base_uri": "https://localhost:8080/"
        },
        "id": "4cNtY0r9MI6n",
        "outputId": "1f061581-6284-4989-f076-be2bb06fa02b"
      },
      "execution_count": null,
      "outputs": [
        {
          "output_type": "stream",
          "name": "stdout",
          "text": [
            "Final Order Values:\n",
            "(34587, 163.8)\n",
            "(98762, 284.0)\n",
            "(77226, 108.85000000000001)\n",
            "(88112, 84.97)\n"
          ]
        }
      ]
    },
    {
      "cell_type": "code",
      "source": [],
      "metadata": {
        "id": "ztVuHf_pNIxh"
      },
      "execution_count": null,
      "outputs": []
    }
  ]
}